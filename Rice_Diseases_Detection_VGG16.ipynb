{
  "nbformat": 4,
  "nbformat_minor": 0,
  "metadata": {
    "colab": {
      "provenance": [],
      "gpuType": "T4"
    },
    "kernelspec": {
      "name": "python3",
      "display_name": "Python 3"
    },
    "language_info": {
      "name": "python"
    },
    "accelerator": "GPU"
  },
  "cells": [
    {
      "cell_type": "code",
      "execution_count": 1,
      "metadata": {
        "colab": {
          "base_uri": "https://localhost:8080/"
        },
        "id": "5O1PVqIWzmpj",
        "outputId": "c24c2b85-d60a-475b-8cc2-f0e2ee1d7a66"
      },
      "outputs": [
        {
          "output_type": "stream",
          "name": "stdout",
          "text": [
            "Drive already mounted at /content/drive; to attempt to forcibly remount, call drive.mount(\"/content/drive\", force_remount=True).\n"
          ]
        }
      ],
      "source": [
        "from google.colab import drive\n",
        "drive.mount('/content/drive')"
      ]
    },
    {
      "cell_type": "code",
      "source": [
        "!ls \"/content/drive/MyDrive/resizes-images\""
      ],
      "metadata": {
        "colab": {
          "base_uri": "https://localhost:8080/"
        },
        "id": "LBBuCXphzn9n",
        "outputId": "f9bb0fa4-3ef1-4bca-f3d2-80fbe52c6d90"
      },
      "execution_count": 2,
      "outputs": [
        {
          "output_type": "stream",
          "name": "stdout",
          "text": [
            "BrownSpot  Healthy  Hispa  LeafBlast\n"
          ]
        }
      ]
    },
    {
      "cell_type": "code",
      "source": [
        "import numpy as np\n",
        "import pandas as pd\n",
        "\n",
        "import matplotlib.pyplot as plt\n",
        "from matplotlib.image import imread\n",
        "import cv2\n",
        "import random\n",
        "import os\n",
        "from os import listdir\n",
        "from PIL import Image\n",
        "\n",
        "import tensorflow as tf\n",
        "from tensorflow.keras.layers import Input\n",
        "from keras.preprocessing import image\n",
        "from tensorflow.keras.utils import img_to_array , array_to_img\n",
        "from keras.optimizers import Adam\n",
        "from keras.models import Sequential\n",
        "from keras.layers import Conv2D, MaxPooling2D\n",
        "from keras.layers import Activation, Flatten , Dropout, Dense\n",
        "from sklearn.model_selection import train_test_split\n",
        "from keras.models import model_from_json\n",
        "from keras.utils import to_categorical\n",
        "from keras.callbacks import EarlyStopping, ModelCheckpoint\n",
        "\n",
        "from tensorflow.keras.preprocessing.image import ImageDataGenerator\n",
        "from tensorflow.keras.applications import InceptionV3\n",
        "from tensorflow.keras.applications import VGG16\n",
        "from tensorflow.keras.models import Model\n",
        "from tensorflow.keras.layers import GlobalAveragePooling2D, Dense\n"
      ],
      "metadata": {
        "id": "K0g8mdsJzqJD"
      },
      "execution_count": 3,
      "outputs": []
    },
    {
      "cell_type": "code",
      "source": [
        "def convert_image_to_array(image_dir):\n",
        "  try:\n",
        "      image = cv2.imread(image_dir)\n",
        "      if image is not None :\n",
        "         image = cv2.resize(image, (299, 299))\n",
        "         return img_to_array(image)\n",
        "      else :\n",
        "        return np.array([])\n",
        "  except Exception as e:\n",
        "        print(f\"Error : {e}\")\n",
        "        return None\n"
      ],
      "metadata": {
        "id": "iHHOboW10AIm"
      },
      "execution_count": 4,
      "outputs": []
    },
    {
      "cell_type": "code",
      "source": [
        "import os\n",
        "\n",
        "dir = \"/content/drive/MyDrive/resizes-images\"\n",
        "image_list, label_list = [], []\n",
        "all_labels = ['BrownSpot', 'Healthy', 'Hispa', 'LeafBlast']\n",
        "binary_labels = [0, 1, 2, 3]\n",
        "temp = -1\n",
        "\n",
        "for directory in all_labels:\n",
        "    plant_image_list = os.listdir(f\"{dir}/{directory}\")\n",
        "    temp += 1\n",
        "    for files in plant_image_list:\n",
        "        image_path = f\"{dir}/{directory}/{files}\"\n",
        "        image_list.append(convert_image_to_array(image_path))\n",
        "        label_list.append(binary_labels[temp])\n"
      ],
      "metadata": {
        "id": "DIofVLC80K3z"
      },
      "execution_count": 5,
      "outputs": []
    },
    {
      "cell_type": "code",
      "source": [
        "label_counts = pd.DataFrame(label_list).value_counts()\n",
        "label_counts.head()"
      ],
      "metadata": {
        "colab": {
          "base_uri": "https://localhost:8080/"
        },
        "id": "8nNLPPCs0TMV",
        "outputId": "96d46073-6b94-4c88-b7b4-2e33d705377a"
      },
      "execution_count": 6,
      "outputs": [
        {
          "output_type": "execute_result",
          "data": {
            "text/plain": [
              "3    623\n",
              "2    452\n",
              "1    397\n",
              "0     56\n",
              "dtype: int64"
            ]
          },
          "metadata": {},
          "execution_count": 6
        }
      ]
    },
    {
      "cell_type": "code",
      "source": [
        "image_list[0].shape"
      ],
      "metadata": {
        "colab": {
          "base_uri": "https://localhost:8080/"
        },
        "id": "p9p6S-mL0ULn",
        "outputId": "3876a5df-64a8-44c9-a9c8-1f096d37318c"
      },
      "execution_count": 7,
      "outputs": [
        {
          "output_type": "execute_result",
          "data": {
            "text/plain": [
              "(299, 299, 3)"
            ]
          },
          "metadata": {},
          "execution_count": 7
        }
      ]
    },
    {
      "cell_type": "code",
      "source": [
        "x_train, x_test, y_train, y_test = train_test_split(image_list, label_list, test_size=0.2, random_state = 10)\n"
      ],
      "metadata": {
        "id": "eKvGHS2D0XGk"
      },
      "execution_count": 8,
      "outputs": []
    },
    {
      "cell_type": "code",
      "source": [
        "x_train = np.array(x_train, dtype=np.float16)/255.0\n",
        "x_test = np.array(x_test, dtype=np.float16)/255.0\n",
        "x_train = x_train.reshape(-1, 299, 299, 3)\n",
        "x_test = x_test.reshape(-1, 299, 299, 3)\n",
        "\n"
      ],
      "metadata": {
        "id": "dUd1rLyg0cdc"
      },
      "execution_count": 9,
      "outputs": []
    },
    {
      "cell_type": "code",
      "source": [
        "y_train = to_categorical(y_train)\n",
        "y_test = to_categorical(y_test)"
      ],
      "metadata": {
        "id": "y_6x-UaY0dY8"
      },
      "execution_count": 10,
      "outputs": []
    },
    {
      "cell_type": "code",
      "source": [
        "# Load VGG16 model\n",
        "base_model = VGG16(weights='imagenet', include_top=False, input_shape=(299, 299, 3))\n",
        "\n",
        "# Freeze layers in the base model\n",
        "for layer in base_model.layers:\n",
        "    layer.trainable = False\n",
        "\n",
        "# Add custom top layers\n",
        "x = base_model.output\n",
        "x = GlobalAveragePooling2D()(x)\n",
        "x = Dense(1024, activation='relu')(x)\n",
        "\n",
        "predictions = Dense(4, activation='softmax')(x)\n",
        "\n",
        "model = Model(inputs=base_model.input, outputs=predictions)\n",
        "\n",
        "# Compile the model\n",
        "model.compile(optimizer=Adam(lr=0.001), loss='categorical_crossentropy', metrics=['accuracy'])\n",
        "\n",
        "# Define callbacks\n",
        "early_stopping = EarlyStopping(monitor='val_loss', patience=3, restore_best_weights=True)\n",
        "model_checkpoint = ModelCheckpoint('best_model.h5', save_best_only=True, save_weights_only=True)\n",
        "\n"
      ],
      "metadata": {
        "id": "C3VHF62i0gyL",
        "colab": {
          "base_uri": "https://localhost:8080/"
        },
        "outputId": "3d773183-98c9-48dd-974b-0fda0311e614"
      },
      "execution_count": 14,
      "outputs": [
        {
          "output_type": "stream",
          "name": "stderr",
          "text": [
            "/usr/local/lib/python3.10/dist-packages/keras/optimizers/legacy/adam.py:117: UserWarning: The `lr` argument is deprecated, use `learning_rate` instead.\n",
            "  super().__init__(name, **kwargs)\n"
          ]
        }
      ]
    },
    {
      "cell_type": "code",
      "source": [
        "# Train the model\n",
        "history = model.fit(\n",
        "    x_train, y_train,\n",
        "    batch_size=32,\n",
        "    epochs=10,\n",
        "    validation_data=(x_test, y_test),\n",
        "    callbacks=[early_stopping, model_checkpoint]\n",
        ")"
      ],
      "metadata": {
        "colab": {
          "base_uri": "https://localhost:8080/"
        },
        "id": "boGsaXir12ip",
        "outputId": "8d570b76-85fc-4a47-fa8a-13a60e6d5833"
      },
      "execution_count": 15,
      "outputs": [
        {
          "output_type": "stream",
          "name": "stdout",
          "text": [
            "Epoch 1/10\n",
            "39/39 [==============================] - 37s 569ms/step - loss: 1.2614 - accuracy: 0.3609 - val_loss: 1.1520 - val_accuracy: 0.4542\n",
            "Epoch 2/10\n",
            "39/39 [==============================] - 11s 286ms/step - loss: 1.1605 - accuracy: 0.4280 - val_loss: 1.1347 - val_accuracy: 0.4444\n",
            "Epoch 3/10\n",
            "39/39 [==============================] - 11s 287ms/step - loss: 1.1186 - accuracy: 0.4640 - val_loss: 1.1914 - val_accuracy: 0.4085\n",
            "Epoch 4/10\n",
            "39/39 [==============================] - 11s 282ms/step - loss: 1.1337 - accuracy: 0.4403 - val_loss: 1.1544 - val_accuracy: 0.4412\n",
            "Epoch 5/10\n",
            "39/39 [==============================] - 11s 291ms/step - loss: 1.0926 - accuracy: 0.4861 - val_loss: 1.0804 - val_accuracy: 0.5229\n",
            "Epoch 6/10\n",
            "39/39 [==============================] - 11s 288ms/step - loss: 1.0729 - accuracy: 0.4885 - val_loss: 1.0989 - val_accuracy: 0.4771\n",
            "Epoch 7/10\n",
            "39/39 [==============================] - 12s 303ms/step - loss: 1.0568 - accuracy: 0.5090 - val_loss: 1.0735 - val_accuracy: 0.5294\n",
            "Epoch 8/10\n",
            "39/39 [==============================] - 12s 303ms/step - loss: 1.0465 - accuracy: 0.5139 - val_loss: 1.0494 - val_accuracy: 0.5458\n",
            "Epoch 9/10\n",
            "39/39 [==============================] - 12s 299ms/step - loss: 1.0104 - accuracy: 0.5450 - val_loss: 1.0633 - val_accuracy: 0.5327\n",
            "Epoch 10/10\n",
            "39/39 [==============================] - 12s 302ms/step - loss: 1.0119 - accuracy: 0.5360 - val_loss: 1.0498 - val_accuracy: 0.5392\n"
          ]
        }
      ]
    },
    {
      "cell_type": "code",
      "source": [
        "# Load the best weights\n",
        "model.load_weights('best_model.h5')"
      ],
      "metadata": {
        "id": "zcg9HdOi_y87"
      },
      "execution_count": 16,
      "outputs": []
    },
    {
      "cell_type": "code",
      "source": [
        "# Evaluate the model\n",
        "test_loss, test_accuracy = model.evaluate(x_test, y_test)\n",
        "print(f'Test accuracy: {test_accuracy}')"
      ],
      "metadata": {
        "colab": {
          "base_uri": "https://localhost:8080/"
        },
        "id": "G-oqSVWW_5lA",
        "outputId": "c92d1a27-998f-419b-a683-26cfa058cdba"
      },
      "execution_count": 17,
      "outputs": [
        {
          "output_type": "stream",
          "name": "stdout",
          "text": [
            "10/10 [==============================] - 2s 228ms/step - loss: 1.0494 - accuracy: 0.5458\n",
            "Test accuracy: 0.5457516312599182\n"
          ]
        }
      ]
    },
    {
      "cell_type": "code",
      "source": [
        "# Plot loss and accuracy graphs\n",
        "plt.figure(figsize=(12, 6))\n",
        "\n",
        "# Plot training loss\n",
        "plt.subplot(1, 2, 1)\n",
        "plt.plot(history.history['loss'], label='Training Loss')\n",
        "plt.title('Training Loss')\n",
        "plt.xlabel('Epoch')\n",
        "plt.gca().yaxis.set_major_formatter(plt.FuncFormatter(lambda x, _: f'{x:.2f}%'))\n",
        "plt.legend()\n",
        "\n",
        "# Plot training accuracy\n",
        "plt.subplot(1, 2, 2)\n",
        "plt.plot(history.history['accuracy'], label='Training Accuracy', color='orange')\n",
        "plt.title('Training Accuracy')\n",
        "plt.xlabel('Epoch')\n",
        "plt.gca().yaxis.set_major_formatter(plt.FuncFormatter(lambda x, _: f'{x:.2f}%'))\n",
        "plt.legend()\n",
        "\n",
        "plt.tight_layout()\n",
        "plt.show()\n",
        "\n",
        "# Print overall accuracy and loss\n",
        "final_loss = history.history['loss'][-1]\n",
        "final_accuracy = history.history['accuracy'][-1]\n",
        "\n",
        "print(f\"Overall Loss: {final_loss:.4f}\")\n",
        "print(f\"Overall Accuracy: {final_accuracy:.4f}\")\n",
        "\n",
        "\n",
        "\n",
        "\n"
      ],
      "metadata": {
        "colab": {
          "base_uri": "https://localhost:8080/",
          "height": 604
        },
        "id": "6FcFvYzyDNMU",
        "outputId": "345d5e35-3c75-4241-d8b5-b8e275705cd6"
      },
      "execution_count": 18,
      "outputs": [
        {
          "output_type": "display_data",
          "data": {
            "text/plain": [
              "<Figure size 1200x600 with 2 Axes>"
            ],
            "image/png": "[encoded data removed]"
          },
          "metadata": {}
        },
        {
          "output_type": "stream",
          "name": "stdout",
          "text": [
            "Overall Loss: 1.0119\n",
            "Overall Accuracy: 0.5360\n"
          ]
        }
      ]
    },
    {
      "cell_type": "code",
      "source": [
        "y_pred = model.predict(x_test)"
      ],
      "metadata": {
        "colab": {
          "base_uri": "https://localhost:8080/"
        },
        "id": "EObtl1IRD3zj",
        "outputId": "4d345d5a-6014-49e7-df7b-0ef9c143b617"
      },
      "execution_count": 19,
      "outputs": [
        {
          "output_type": "stream",
          "name": "stdout",
          "text": [
            "10/10 [==============================] - 2s 228ms/step\n"
          ]
        }
      ]
    },
    {
      "cell_type": "code",
      "source": [
        "correct_predictions = 0\n",
        "\n",
        "for i in range(100):\n",
        "    true_label = all_labels[np.argmax(y_test[i])]\n",
        "    predicted_label = all_labels[np.argmax(y_pred[i])]\n",
        "\n",
        "    print(true_label, \"-\", predicted_label)\n",
        "\n",
        "    if true_label == predicted_label:\n",
        "        correct_predictions += 1\n",
        "\n",
        "print(\"Number of correct predictions:\", correct_predictions)\n"
      ],
      "metadata": {
        "colab": {
          "base_uri": "https://localhost:8080/"
        },
        "id": "0QHnIadxDxip",
        "outputId": "fd04d04f-9f18-483d-c35e-ad95576803ee"
      },
      "execution_count": 20,
      "outputs": [
        {
          "output_type": "stream",
          "name": "stdout",
          "text": [
            "LeafBlast - LeafBlast\n",
            "LeafBlast - LeafBlast\n",
            "Healthy - Healthy\n",
            "LeafBlast - LeafBlast\n",
            "BrownSpot - Healthy\n",
            "Hispa - LeafBlast\n",
            "LeafBlast - LeafBlast\n",
            "LeafBlast - LeafBlast\n",
            "LeafBlast - LeafBlast\n",
            "Healthy - LeafBlast\n",
            "LeafBlast - Healthy\n",
            "Healthy - Hispa\n",
            "LeafBlast - Hispa\n",
            "LeafBlast - Healthy\n",
            "LeafBlast - LeafBlast\n",
            "LeafBlast - LeafBlast\n",
            "LeafBlast - LeafBlast\n",
            "Healthy - Hispa\n",
            "LeafBlast - LeafBlast\n",
            "Healthy - LeafBlast\n",
            "LeafBlast - Hispa\n",
            "Healthy - Healthy\n",
            "LeafBlast - Healthy\n",
            "Healthy - Hispa\n",
            "LeafBlast - LeafBlast\n",
            "LeafBlast - LeafBlast\n",
            "LeafBlast - LeafBlast\n",
            "Healthy - LeafBlast\n",
            "Hispa - LeafBlast\n",
            "Hispa - LeafBlast\n",
            "Hispa - Hispa\n",
            "LeafBlast - Hispa\n",
            "LeafBlast - Hispa\n",
            "Hispa - LeafBlast\n",
            "Hispa - Hispa\n",
            "Healthy - LeafBlast\n",
            "Healthy - Hispa\n",
            "LeafBlast - LeafBlast\n",
            "Healthy - Healthy\n",
            "LeafBlast - LeafBlast\n",
            "Hispa - LeafBlast\n",
            "LeafBlast - LeafBlast\n",
            "BrownSpot - Healthy\n",
            "BrownSpot - Healthy\n",
            "LeafBlast - LeafBlast\n",
            "LeafBlast - Healthy\n",
            "Healthy - LeafBlast\n",
            "Hispa - Healthy\n",
            "Healthy - Healthy\n",
            "Hispa - LeafBlast\n",
            "Healthy - Hispa\n",
            "LeafBlast - Healthy\n",
            "Healthy - Healthy\n",
            "Healthy - Healthy\n",
            "LeafBlast - LeafBlast\n",
            "LeafBlast - LeafBlast\n",
            "Healthy - LeafBlast\n",
            "Hispa - Hispa\n",
            "LeafBlast - LeafBlast\n",
            "Hispa - LeafBlast\n",
            "Healthy - Hispa\n",
            "Healthy - Healthy\n",
            "Hispa - Healthy\n",
            "LeafBlast - LeafBlast\n",
            "Healthy - Hispa\n",
            "LeafBlast - LeafBlast\n",
            "Hispa - LeafBlast\n",
            "Hispa - Hispa\n",
            "Hispa - Healthy\n",
            "Hispa - Hispa\n",
            "LeafBlast - Healthy\n",
            "Hispa - Hispa\n",
            "Hispa - LeafBlast\n",
            "Hispa - Healthy\n",
            "Hispa - Hispa\n",
            "LeafBlast - Healthy\n",
            "LeafBlast - LeafBlast\n",
            "Hispa - LeafBlast\n",
            "Healthy - Healthy\n",
            "Hispa - LeafBlast\n",
            "LeafBlast - LeafBlast\n",
            "Hispa - Healthy\n",
            "Healthy - Hispa\n",
            "LeafBlast - LeafBlast\n",
            "Healthy - LeafBlast\n",
            "Healthy - Healthy\n",
            "Hispa - LeafBlast\n",
            "LeafBlast - Hispa\n",
            "Healthy - Healthy\n",
            "Healthy - Healthy\n",
            "Hispa - Hispa\n",
            "LeafBlast - LeafBlast\n",
            "LeafBlast - LeafBlast\n",
            "Healthy - Healthy\n",
            "Hispa - LeafBlast\n",
            "Hispa - Hispa\n",
            "LeafBlast - Hispa\n",
            "LeafBlast - LeafBlast\n",
            "Healthy - Healthy\n",
            "LeafBlast - LeafBlast\n",
            "Number of correct predictions: 51\n"
          ]
        }
      ]
    }
  ]
}