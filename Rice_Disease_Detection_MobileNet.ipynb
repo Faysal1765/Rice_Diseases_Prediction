{
  "nbformat": 4,
  "nbformat_minor": 0,
  "metadata": {
    "colab": {
      "provenance": [],
      "gpuType": "T4"
    },
    "kernelspec": {
      "name": "python3",
      "display_name": "Python 3"
    },
    "language_info": {
      "name": "python"
    },
    "accelerator": "GPU"
  },
  "cells": [
    {
      "cell_type": "code",
      "execution_count": 9,
      "metadata": {
        "colab": {
          "base_uri": "https://localhost:8080/",
          "height": 0
        },
        "id": "7p8ojNspSEWB",
        "outputId": "bb9738e9-a976-409a-c220-d44f4685a0c8"
      },
      "outputs": [
        {
          "output_type": "stream",
          "name": "stdout",
          "text": [
            "Drive already mounted at /content/drive; to attempt to forcibly remount, call drive.mount(\"/content/drive\", force_remount=True).\n"
          ]
        }
      ],
      "source": [
        "from google.colab import drive\n",
        "drive.mount('/content/drive')"
      ]
    },
    {
      "cell_type": "code",
      "source": [
        "!ls \"/content/drive/MyDrive/resizes-images\""
      ],
      "metadata": {
        "colab": {
          "base_uri": "https://localhost:8080/",
          "height": 0
        },
        "id": "cOn1lAPnSF-k",
        "outputId": "24e8188d-7b2a-4a91-9169-5cfee8a80edc"
      },
      "execution_count": 10,
      "outputs": [
        {
          "output_type": "stream",
          "name": "stdout",
          "text": [
            "BrownSpot  Healthy  Hispa  LeafBlast\n"
          ]
        }
      ]
    },
    {
      "cell_type": "code",
      "source": [
        "import numpy as np\n",
        "import pandas as pd\n",
        "\n",
        "import matplotlib.pyplot as plt\n",
        "from matplotlib.image import imread\n",
        "import cv2\n",
        "import random\n",
        "import os\n",
        "from os import listdir\n",
        "from PIL import Image\n",
        "\n",
        "import tensorflow as tf\n",
        "from tensorflow.keras.layers import Input\n",
        "from keras.preprocessing import image\n",
        "from tensorflow.keras.utils import img_to_array , array_to_img\n",
        "from keras.optimizers import Adam\n",
        "from keras.utils import to_categorical\n",
        "\n",
        "\n",
        "from tensorflow.keras.applications import MobileNetV2\n",
        "from tensorflow.keras.layers import Input, GlobalAveragePooling2D, Dense\n",
        "from tensorflow.keras.models import Model\n",
        "from tensorflow.keras.optimizers import Adam\n",
        "from tensorflow.keras.preprocessing.image import ImageDataGenerator"
      ],
      "metadata": {
        "id": "gU5rZIW5SIHg"
      },
      "execution_count": 20,
      "outputs": []
    },
    {
      "cell_type": "code",
      "source": [
        "def convert_image_to_array(image_dir):\n",
        "  try:\n",
        "      image = cv2.imread(image_dir)\n",
        "      if image is not None :\n",
        "         image = cv2.resize(image, (224, 224))\n",
        "         return img_to_array(image)\n",
        "      else :\n",
        "        return np.array([])\n",
        "  except Exception as e:\n",
        "        print(f\"Error : {e}\")\n",
        "        return None\n"
      ],
      "metadata": {
        "id": "t0Jyqs_dSqMP"
      },
      "execution_count": 12,
      "outputs": []
    },
    {
      "cell_type": "code",
      "source": [
        "import os\n",
        "\n",
        "dir = \"/content/drive/MyDrive/resizes-images\"\n",
        "image_list, label_list = [], []\n",
        "all_labels = ['BrownSpot', 'Healthy', 'Hispa', 'LeafBlast']\n",
        "binary_labels = [0, 1, 2, 3]\n",
        "temp = -1\n",
        "\n",
        "for directory in all_labels:\n",
        "    plant_image_list = os.listdir(f\"{dir}/{directory}\")\n",
        "    temp += 1\n",
        "    for files in plant_image_list:\n",
        "        image_path = f\"{dir}/{directory}/{files}\"\n",
        "        image_list.append(convert_image_to_array(image_path))\n",
        "        label_list.append(binary_labels[temp])\n"
      ],
      "metadata": {
        "id": "sNGwO3ukSiM7"
      },
      "execution_count": 13,
      "outputs": []
    },
    {
      "cell_type": "code",
      "source": [
        "from sklearn.model_selection import train_test_split\n",
        "x_train, x_test, y_train, y_test = train_test_split(image_list, label_list, test_size=0.2, random_state = 10)\n"
      ],
      "metadata": {
        "id": "e5mq57qxS45H"
      },
      "execution_count": 15,
      "outputs": []
    },
    {
      "cell_type": "code",
      "source": [
        "x_train = np.array(x_train, dtype=np.float16)/255.0\n",
        "x_test = np.array(x_test, dtype=np.float16)/255.0\n",
        "x_train = x_train.reshape(-1, 224, 224, 3)\n",
        "x_test = x_test.reshape(-1, 224, 224, 3)\n",
        "\n"
      ],
      "metadata": {
        "id": "5fXQ0Y4LS5wy"
      },
      "execution_count": 16,
      "outputs": []
    },
    {
      "cell_type": "code",
      "source": [
        "y_train = to_categorical(y_train)\n",
        "y_test = to_categorical(y_test)"
      ],
      "metadata": {
        "id": "gvoxvXJlTAox"
      },
      "execution_count": 17,
      "outputs": []
    },
    {
      "cell_type": "code",
      "source": [],
      "metadata": {
        "id": "n71_DqcMV0MJ"
      },
      "execution_count": null,
      "outputs": []
    },
    {
      "cell_type": "code",
      "source": [
        "# Load MobileNetV2 base model (excluding top layers)\n",
        "base_model = MobileNetV2(input_shape=(224, 224, 3), weights='imagenet', include_top=False)\n",
        "\n",
        "# Add custom top layers\n",
        "x = base_model.output\n",
        "x = GlobalAveragePooling2D()(x)\n",
        "x = Dense(1024, activation='relu')(x)\n",
        "predictions = Dense(4, activation='softmax')(x)  # num_classes is the number of classes in your task\n",
        "\n",
        "# Create the final model\n",
        "model = Model(inputs=base_model.input, outputs=predictions)\n",
        "\n",
        "# Compile the model\n",
        "model.compile(optimizer=Adam(lr=0.001), loss='categorical_crossentropy', metrics=['accuracy'])\n",
        "\n",
        "# Define callbacks\n",
        "from keras.callbacks import EarlyStopping, ModelCheckpoint\n",
        "early_stopping = EarlyStopping(monitor='val_loss', patience=3, restore_best_weights=True)\n",
        "model_checkpoint = ModelCheckpoint('best_model.h5', save_best_only=True, save_weights_only=True)"
      ],
      "metadata": {
        "colab": {
          "base_uri": "https://localhost:8080/",
          "height": 0
        },
        "id": "iSDZ1yoVTDQ7",
        "outputId": "2c35767e-8b39-45dc-cc91-9bae6fdca936"
      },
      "execution_count": 29,
      "outputs": [
        {
          "output_type": "stream",
          "name": "stderr",
          "text": [
            "WARNING:absl:`lr` is deprecated in Keras optimizer, please use `learning_rate` or use the legacy optimizer, e.g.,tf.keras.optimizers.legacy.Adam.\n"
          ]
        }
      ]
    },
    {
      "cell_type": "code",
      "source": [
        "# Train the model\n",
        "history = model.fit(\n",
        "    x_train, y_train,\n",
        "    batch_size=16,\n",
        "    epochs=10,\n",
        "    validation_data=(x_test, y_test),\n",
        "    callbacks=[early_stopping, model_checkpoint]\n",
        ")"
      ],
      "metadata": {
        "colab": {
          "base_uri": "https://localhost:8080/",
          "height": 0
        },
        "id": "wGVQBEOqTWq8",
        "outputId": "7107413f-a232-4cf0-ad3c-98c93f67963a"
      },
      "execution_count": 27,
      "outputs": [
        {
          "output_type": "stream",
          "name": "stdout",
          "text": [
            "Epoch 1/10\n",
            "77/77 [==============================] - 9s 95ms/step - loss: 0.9990 - accuracy: 0.5646 - val_loss: 3.5070 - val_accuracy: 0.4510\n",
            "Epoch 2/10\n",
            "77/77 [==============================] - 6s 76ms/step - loss: 0.8546 - accuracy: 0.6318 - val_loss: 10.6434 - val_accuracy: 0.4281\n",
            "Epoch 3/10\n",
            "77/77 [==============================] - 6s 78ms/step - loss: 0.7774 - accuracy: 0.6645 - val_loss: 10.1217 - val_accuracy: 0.4281\n",
            "Epoch 4/10\n",
            "77/77 [==============================] - 6s 75ms/step - loss: 0.7021 - accuracy: 0.7308 - val_loss: 10.2875 - val_accuracy: 0.4281\n"
          ]
        }
      ]
    },
    {
      "cell_type": "code",
      "source": [
        "# Load the best weights\n",
        "model.load_weights('best_model.h5')"
      ],
      "metadata": {
        "id": "YMZ7_NufTZMT"
      },
      "execution_count": 23,
      "outputs": []
    },
    {
      "cell_type": "code",
      "source": [
        "# Plot loss and accuracy graphs\n",
        "plt.figure(figsize=(12, 6))\n",
        "\n",
        "# Plot training loss\n",
        "plt.subplot(1, 2, 1)\n",
        "plt.plot(history.history['loss'], label='Training Loss')\n",
        "plt.title('Training Loss')\n",
        "plt.xlabel('Epoch')\n",
        "plt.gca().yaxis.set_major_formatter(plt.FuncFormatter(lambda x, _: f'{x:.2f}%'))\n",
        "plt.legend()\n",
        "\n",
        "# Plot training accuracy\n",
        "plt.subplot(1, 2, 2)\n",
        "plt.plot(history.history['accuracy'], label='Training Accuracy', color='orange')\n",
        "plt.title('Training Accuracy')\n",
        "plt.xlabel('Epoch')\n",
        "plt.gca().yaxis.set_major_formatter(plt.FuncFormatter(lambda x, _: f'{x:.2f}%'))\n",
        "plt.legend()\n",
        "\n",
        "plt.tight_layout()\n",
        "plt.show()\n",
        "\n",
        "# Print overall accuracy and loss\n",
        "final_loss = history.history['loss'][-1]\n",
        "final_accuracy = history.history['accuracy'][-1]\n",
        "\n",
        "print(f\"Overall Loss: {final_loss:.4f}\")\n",
        "print(f\"Overall Accuracy: {final_accuracy:.4f}\")\n",
        "\n"
      ],
      "metadata": {
        "colab": {
          "base_uri": "https://localhost:8080/",
          "height": 642
        },
        "id": "HQQ4IcE0Te1b",
        "outputId": "bfd624db-e5df-4ad7-f43f-ea2ad3cc598a"
      },
      "execution_count": 24,
      "outputs": [
        {
          "output_type": "display_data",
          "data": {
            "text/plain": [
              "<Figure size 1200x600 with 2 Axes>"
            ],
            "image/png": "[encoded data removed]"
          },
          "metadata": {}
        },
        {
          "output_type": "stream",
          "name": "stdout",
          "text": [
            "Overall Loss: 0.5564\n",
            "Overall Accuracy: 0.7725\n"
          ]
        }
      ]
    },
    {
      "cell_type": "code",
      "source": [
        "y_pred = model.predict(x_test)"
      ],
      "metadata": {
        "colab": {
          "base_uri": "https://localhost:8080/",
          "height": 0
        },
        "id": "eYz025GpTiDD",
        "outputId": "1022a6ee-ccf0-46ce-c726-10dab3def666"
      },
      "execution_count": 25,
      "outputs": [
        {
          "output_type": "stream",
          "name": "stdout",
          "text": [
            "10/10 [==============================] - 1s 43ms/step\n"
          ]
        }
      ]
    },
    {
      "cell_type": "code",
      "source": [
        "correct_predictions = 0\n",
        "\n",
        "for i in range(100):\n",
        "    true_label = all_labels[np.argmax(y_test[i])]\n",
        "    predicted_label = all_labels[np.argmax(y_pred[i])]\n",
        "\n",
        "    print(true_label, \"-\", predicted_label)\n",
        "\n",
        "    if true_label == predicted_label:\n",
        "        correct_predictions += 1\n",
        "\n",
        "print(\"Number of correct predictions:\", correct_predictions)\n"
      ],
      "metadata": {
        "colab": {
          "base_uri": "https://localhost:8080/",
          "height": 0
        },
        "id": "NZhytiNjTl76",
        "outputId": "4ed17d4d-76a0-4a87-ce1b-46eb3d1b813e"
      },
      "execution_count": 26,
      "outputs": [
        {
          "output_type": "stream",
          "name": "stdout",
          "text": [
            "LeafBlast - LeafBlast\n",
            "LeafBlast - Hispa\n",
            "Healthy - Hispa\n",
            "LeafBlast - LeafBlast\n",
            "BrownSpot - Hispa\n",
            "Hispa - LeafBlast\n",
            "LeafBlast - Hispa\n",
            "LeafBlast - LeafBlast\n",
            "LeafBlast - Hispa\n",
            "Healthy - Hispa\n",
            "LeafBlast - Hispa\n",
            "Healthy - Hispa\n",
            "LeafBlast - Hispa\n",
            "LeafBlast - Hispa\n",
            "LeafBlast - Hispa\n",
            "LeafBlast - Hispa\n",
            "LeafBlast - LeafBlast\n",
            "Healthy - Hispa\n",
            "LeafBlast - Hispa\n",
            "Healthy - Hispa\n",
            "LeafBlast - Hispa\n",
            "Healthy - Hispa\n",
            "LeafBlast - Hispa\n",
            "Healthy - Hispa\n",
            "LeafBlast - Hispa\n",
            "LeafBlast - Hispa\n",
            "LeafBlast - LeafBlast\n",
            "Healthy - Hispa\n",
            "Hispa - Hispa\n",
            "Hispa - Hispa\n",
            "Hispa - Hispa\n",
            "LeafBlast - Hispa\n",
            "LeafBlast - Hispa\n",
            "Hispa - LeafBlast\n",
            "Hispa - Hispa\n",
            "Healthy - Hispa\n",
            "Healthy - Hispa\n",
            "LeafBlast - Hispa\n",
            "Healthy - Hispa\n",
            "LeafBlast - Hispa\n",
            "Hispa - Hispa\n",
            "LeafBlast - Hispa\n",
            "BrownSpot - LeafBlast\n",
            "BrownSpot - LeafBlast\n",
            "LeafBlast - Hispa\n",
            "LeafBlast - Hispa\n",
            "Healthy - Hispa\n",
            "Hispa - Hispa\n",
            "Healthy - Hispa\n",
            "Hispa - Hispa\n",
            "Healthy - Hispa\n",
            "LeafBlast - Hispa\n",
            "Healthy - Hispa\n",
            "Healthy - Hispa\n",
            "LeafBlast - Hispa\n",
            "LeafBlast - Hispa\n",
            "Healthy - Hispa\n",
            "Hispa - LeafBlast\n",
            "LeafBlast - LeafBlast\n",
            "Hispa - Hispa\n",
            "Healthy - Hispa\n",
            "Healthy - Hispa\n",
            "Hispa - Hispa\n",
            "LeafBlast - LeafBlast\n",
            "Healthy - Hispa\n",
            "LeafBlast - Hispa\n",
            "Hispa - Hispa\n",
            "Hispa - Hispa\n",
            "Hispa - Hispa\n",
            "Hispa - Hispa\n",
            "LeafBlast - Hispa\n",
            "Hispa - Hispa\n",
            "Hispa - Hispa\n",
            "Hispa - Hispa\n",
            "Hispa - Hispa\n",
            "LeafBlast - Hispa\n",
            "LeafBlast - Hispa\n",
            "Hispa - Hispa\n",
            "Healthy - Hispa\n",
            "Hispa - Hispa\n",
            "LeafBlast - Hispa\n",
            "Hispa - Hispa\n",
            "Healthy - Hispa\n",
            "LeafBlast - Hispa\n",
            "Healthy - Hispa\n",
            "Healthy - Hispa\n",
            "Hispa - Hispa\n",
            "LeafBlast - Hispa\n",
            "Healthy - Hispa\n",
            "Healthy - LeafBlast\n",
            "Hispa - Hispa\n",
            "LeafBlast - Hispa\n",
            "LeafBlast - LeafBlast\n",
            "Healthy - Hispa\n",
            "Hispa - LeafBlast\n",
            "Hispa - Hispa\n",
            "LeafBlast - Hispa\n",
            "LeafBlast - Hispa\n",
            "Healthy - LeafBlast\n",
            "LeafBlast - Hispa\n",
            "Number of correct predictions: 31\n"
          ]
        }
      ]
    }
  ]
}